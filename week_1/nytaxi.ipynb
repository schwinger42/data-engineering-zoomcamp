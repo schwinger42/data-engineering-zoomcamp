{
 "cells": [
  {
   "cell_type": "code",
   "id": "initial_id",
   "metadata": {
    "collapsed": true,
    "ExecuteTime": {
     "end_time": "2025-01-27T12:03:20.720558Z",
     "start_time": "2025-01-27T12:03:20.699312Z"
    }
   },
   "source": [
    "import pandas as pd\n",
    "from sqlalchemy import create_engine\n",
    "\n",
    "# Database connection details\n",
    "DB_HOST = \"localhost\"\n",
    "DB_PORT = 5433  # Port you mapped in docker-compose.yaml\n",
    "DB_NAME = \"ny_taxi\"\n",
    "DB_USER = \"postgres\"\n",
    "DB_PASS = \"postgres\"\n",
    "\n",
    "# Create SQLAlchemy engine\n",
    "engine = create_engine(f\"postgresql://{DB_USER}:{DB_PASS}@{DB_HOST}:{DB_PORT}/{DB_NAME}\")\n",
    "\n",
    "# Test the connection\n",
    "try:\n",
    "    with engine.connect() as connection:\n",
    "        print(\"Connection to PostgreSQL successful!\")\n",
    "except Exception as e:\n",
    "    print(f\"Error connecting to PostgreSQL: {e}\")\n"
   ],
   "outputs": [
    {
     "name": "stdout",
     "output_type": "stream",
     "text": [
      "Connection to PostgreSQL successful!\n"
     ]
    }
   ],
   "execution_count": 45
  },
  {
   "metadata": {
    "ExecuteTime": {
     "end_time": "2025-01-27T12:03:24.220137Z",
     "start_time": "2025-01-27T12:03:21.972497Z"
    }
   },
   "cell_type": "code",
   "source": [
    "# show first 5 rows of the green_taxi_trips table\n",
    "query = \"\"\"\n",
    "SELECT *\n",
    "FROM green_taxi_trips\n",
    "\"\"\"\n",
    "green_taxi_trips = pd.read_sql(query, engine)\n",
    "green_taxi_trips.info()"
   ],
   "id": "f44ef846966a4b8b",
   "outputs": [
    {
     "name": "stdout",
     "output_type": "stream",
     "text": [
      "<class 'pandas.core.frame.DataFrame'>\n",
      "RangeIndex: 476386 entries, 0 to 476385\n",
      "Data columns (total 20 columns):\n",
      " #   Column                 Non-Null Count   Dtype  \n",
      "---  ------                 --------------   -----  \n",
      " 0   VendorID               387007 non-null  float64\n",
      " 1   lpep_pickup_datetime   476386 non-null  object \n",
      " 2   lpep_dropoff_datetime  476386 non-null  object \n",
      " 3   store_and_fwd_flag     387007 non-null  object \n",
      " 4   RatecodeID             387007 non-null  float64\n",
      " 5   PULocationID           476386 non-null  int64  \n",
      " 6   DOLocationID           476386 non-null  int64  \n",
      " 7   passenger_count        387007 non-null  float64\n",
      " 8   trip_distance          476386 non-null  float64\n",
      " 9   fare_amount            476386 non-null  float64\n",
      " 10  extra                  476386 non-null  float64\n",
      " 11  mta_tax                476386 non-null  float64\n",
      " 12  tip_amount             476386 non-null  float64\n",
      " 13  tolls_amount           476386 non-null  float64\n",
      " 14  ehail_fee              0 non-null       object \n",
      " 15  improvement_surcharge  476386 non-null  float64\n",
      " 16  total_amount           476386 non-null  float64\n",
      " 17  payment_type           387007 non-null  float64\n",
      " 18  trip_type              387005 non-null  float64\n",
      " 19  congestion_surcharge   387007 non-null  float64\n",
      "dtypes: float64(14), int64(2), object(4)\n",
      "memory usage: 72.7+ MB\n"
     ]
    }
   ],
   "execution_count": 46
  },
  {
   "metadata": {
    "ExecuteTime": {
     "end_time": "2025-01-27T12:03:24.910334Z",
     "start_time": "2025-01-27T12:03:24.899728Z"
    }
   },
   "cell_type": "code",
   "source": "green_taxi_trips.head()",
   "id": "44854e419fb727fe",
   "outputs": [
    {
     "data": {
      "text/plain": [
       "   VendorID lpep_pickup_datetime lpep_dropoff_datetime store_and_fwd_flag  \\\n",
       "0       2.0  2019-10-01 00:26:02   2019-10-01 00:39:58                  N   \n",
       "1       1.0  2019-10-01 00:18:11   2019-10-01 00:22:38                  N   \n",
       "2       1.0  2019-10-01 00:09:31   2019-10-01 00:24:47                  N   \n",
       "3       1.0  2019-10-01 00:37:40   2019-10-01 00:41:49                  N   \n",
       "4       2.0  2019-10-01 00:08:13   2019-10-01 00:17:56                  N   \n",
       "\n",
       "   RatecodeID  PULocationID  DOLocationID  passenger_count  trip_distance  \\\n",
       "0         1.0           112           196              1.0           5.88   \n",
       "1         1.0            43           263              1.0           0.80   \n",
       "2         1.0           255           228              2.0           7.50   \n",
       "3         1.0           181           181              1.0           0.90   \n",
       "4         1.0            97           188              1.0           2.52   \n",
       "\n",
       "   fare_amount  extra  mta_tax  tip_amount  tolls_amount ehail_fee  \\\n",
       "0         18.0   0.50      0.5        0.00           0.0      None   \n",
       "1          5.0   3.25      0.5        0.00           0.0      None   \n",
       "2         21.5   0.50      0.5        0.00           0.0      None   \n",
       "3          5.5   0.50      0.5        0.00           0.0      None   \n",
       "4         10.0   0.50      0.5        2.26           0.0      None   \n",
       "\n",
       "   improvement_surcharge  total_amount  payment_type  trip_type  \\\n",
       "0                    0.3         19.30           2.0        1.0   \n",
       "1                    0.3          9.05           2.0        1.0   \n",
       "2                    0.3         22.80           2.0        1.0   \n",
       "3                    0.3          6.80           2.0        1.0   \n",
       "4                    0.3         13.56           1.0        1.0   \n",
       "\n",
       "   congestion_surcharge  \n",
       "0                   0.0  \n",
       "1                   0.0  \n",
       "2                   0.0  \n",
       "3                   0.0  \n",
       "4                   0.0  "
      ],
      "text/html": [
       "<div>\n",
       "<style scoped>\n",
       "    .dataframe tbody tr th:only-of-type {\n",
       "        vertical-align: middle;\n",
       "    }\n",
       "\n",
       "    .dataframe tbody tr th {\n",
       "        vertical-align: top;\n",
       "    }\n",
       "\n",
       "    .dataframe thead th {\n",
       "        text-align: right;\n",
       "    }\n",
       "</style>\n",
       "<table border=\"1\" class=\"dataframe\">\n",
       "  <thead>\n",
       "    <tr style=\"text-align: right;\">\n",
       "      <th></th>\n",
       "      <th>VendorID</th>\n",
       "      <th>lpep_pickup_datetime</th>\n",
       "      <th>lpep_dropoff_datetime</th>\n",
       "      <th>store_and_fwd_flag</th>\n",
       "      <th>RatecodeID</th>\n",
       "      <th>PULocationID</th>\n",
       "      <th>DOLocationID</th>\n",
       "      <th>passenger_count</th>\n",
       "      <th>trip_distance</th>\n",
       "      <th>fare_amount</th>\n",
       "      <th>extra</th>\n",
       "      <th>mta_tax</th>\n",
       "      <th>tip_amount</th>\n",
       "      <th>tolls_amount</th>\n",
       "      <th>ehail_fee</th>\n",
       "      <th>improvement_surcharge</th>\n",
       "      <th>total_amount</th>\n",
       "      <th>payment_type</th>\n",
       "      <th>trip_type</th>\n",
       "      <th>congestion_surcharge</th>\n",
       "    </tr>\n",
       "  </thead>\n",
       "  <tbody>\n",
       "    <tr>\n",
       "      <th>0</th>\n",
       "      <td>2.0</td>\n",
       "      <td>2019-10-01 00:26:02</td>\n",
       "      <td>2019-10-01 00:39:58</td>\n",
       "      <td>N</td>\n",
       "      <td>1.0</td>\n",
       "      <td>112</td>\n",
       "      <td>196</td>\n",
       "      <td>1.0</td>\n",
       "      <td>5.88</td>\n",
       "      <td>18.0</td>\n",
       "      <td>0.50</td>\n",
       "      <td>0.5</td>\n",
       "      <td>0.00</td>\n",
       "      <td>0.0</td>\n",
       "      <td>None</td>\n",
       "      <td>0.3</td>\n",
       "      <td>19.30</td>\n",
       "      <td>2.0</td>\n",
       "      <td>1.0</td>\n",
       "      <td>0.0</td>\n",
       "    </tr>\n",
       "    <tr>\n",
       "      <th>1</th>\n",
       "      <td>1.0</td>\n",
       "      <td>2019-10-01 00:18:11</td>\n",
       "      <td>2019-10-01 00:22:38</td>\n",
       "      <td>N</td>\n",
       "      <td>1.0</td>\n",
       "      <td>43</td>\n",
       "      <td>263</td>\n",
       "      <td>1.0</td>\n",
       "      <td>0.80</td>\n",
       "      <td>5.0</td>\n",
       "      <td>3.25</td>\n",
       "      <td>0.5</td>\n",
       "      <td>0.00</td>\n",
       "      <td>0.0</td>\n",
       "      <td>None</td>\n",
       "      <td>0.3</td>\n",
       "      <td>9.05</td>\n",
       "      <td>2.0</td>\n",
       "      <td>1.0</td>\n",
       "      <td>0.0</td>\n",
       "    </tr>\n",
       "    <tr>\n",
       "      <th>2</th>\n",
       "      <td>1.0</td>\n",
       "      <td>2019-10-01 00:09:31</td>\n",
       "      <td>2019-10-01 00:24:47</td>\n",
       "      <td>N</td>\n",
       "      <td>1.0</td>\n",
       "      <td>255</td>\n",
       "      <td>228</td>\n",
       "      <td>2.0</td>\n",
       "      <td>7.50</td>\n",
       "      <td>21.5</td>\n",
       "      <td>0.50</td>\n",
       "      <td>0.5</td>\n",
       "      <td>0.00</td>\n",
       "      <td>0.0</td>\n",
       "      <td>None</td>\n",
       "      <td>0.3</td>\n",
       "      <td>22.80</td>\n",
       "      <td>2.0</td>\n",
       "      <td>1.0</td>\n",
       "      <td>0.0</td>\n",
       "    </tr>\n",
       "    <tr>\n",
       "      <th>3</th>\n",
       "      <td>1.0</td>\n",
       "      <td>2019-10-01 00:37:40</td>\n",
       "      <td>2019-10-01 00:41:49</td>\n",
       "      <td>N</td>\n",
       "      <td>1.0</td>\n",
       "      <td>181</td>\n",
       "      <td>181</td>\n",
       "      <td>1.0</td>\n",
       "      <td>0.90</td>\n",
       "      <td>5.5</td>\n",
       "      <td>0.50</td>\n",
       "      <td>0.5</td>\n",
       "      <td>0.00</td>\n",
       "      <td>0.0</td>\n",
       "      <td>None</td>\n",
       "      <td>0.3</td>\n",
       "      <td>6.80</td>\n",
       "      <td>2.0</td>\n",
       "      <td>1.0</td>\n",
       "      <td>0.0</td>\n",
       "    </tr>\n",
       "    <tr>\n",
       "      <th>4</th>\n",
       "      <td>2.0</td>\n",
       "      <td>2019-10-01 00:08:13</td>\n",
       "      <td>2019-10-01 00:17:56</td>\n",
       "      <td>N</td>\n",
       "      <td>1.0</td>\n",
       "      <td>97</td>\n",
       "      <td>188</td>\n",
       "      <td>1.0</td>\n",
       "      <td>2.52</td>\n",
       "      <td>10.0</td>\n",
       "      <td>0.50</td>\n",
       "      <td>0.5</td>\n",
       "      <td>2.26</td>\n",
       "      <td>0.0</td>\n",
       "      <td>None</td>\n",
       "      <td>0.3</td>\n",
       "      <td>13.56</td>\n",
       "      <td>1.0</td>\n",
       "      <td>1.0</td>\n",
       "      <td>0.0</td>\n",
       "    </tr>\n",
       "  </tbody>\n",
       "</table>\n",
       "</div>"
      ]
     },
     "execution_count": 47,
     "metadata": {},
     "output_type": "execute_result"
    }
   ],
   "execution_count": 47
  },
  {
   "metadata": {
    "ExecuteTime": {
     "end_time": "2025-01-27T12:03:26.390467Z",
     "start_time": "2025-01-27T12:03:26.378430Z"
    }
   },
   "cell_type": "code",
   "source": [
    "# read taxi_zones table into a DataFrame\n",
    "query = \"\"\"\n",
    "SELECT *\n",
    "FROM taxi_zones\n",
    "\"\"\"\n",
    "taxi_zones = pd.read_sql(query, engine)\n",
    "taxi_zones.info()"
   ],
   "id": "5a936149fdfaef9c",
   "outputs": [
    {
     "name": "stdout",
     "output_type": "stream",
     "text": [
      "<class 'pandas.core.frame.DataFrame'>\n",
      "RangeIndex: 265 entries, 0 to 264\n",
      "Data columns (total 4 columns):\n",
      " #   Column        Non-Null Count  Dtype \n",
      "---  ------        --------------  ----- \n",
      " 0   LocationID    265 non-null    int64 \n",
      " 1   Borough       265 non-null    object\n",
      " 2   Zone          264 non-null    object\n",
      " 3   service_zone  263 non-null    object\n",
      "dtypes: int64(1), object(3)\n",
      "memory usage: 8.4+ KB\n"
     ]
    }
   ],
   "execution_count": 48
  },
  {
   "metadata": {
    "ExecuteTime": {
     "end_time": "2025-01-27T12:03:26.994767Z",
     "start_time": "2025-01-27T12:03:26.989530Z"
    }
   },
   "cell_type": "code",
   "source": "taxi_zones.head()",
   "id": "2361d7fe2ea17742",
   "outputs": [
    {
     "data": {
      "text/plain": [
       "   LocationID        Borough                     Zone service_zone\n",
       "0           1            EWR           Newark Airport          EWR\n",
       "1           2         Queens              Jamaica Bay    Boro Zone\n",
       "2           3          Bronx  Allerton/Pelham Gardens    Boro Zone\n",
       "3           4      Manhattan            Alphabet City  Yellow Zone\n",
       "4           5  Staten Island            Arden Heights    Boro Zone"
      ],
      "text/html": [
       "<div>\n",
       "<style scoped>\n",
       "    .dataframe tbody tr th:only-of-type {\n",
       "        vertical-align: middle;\n",
       "    }\n",
       "\n",
       "    .dataframe tbody tr th {\n",
       "        vertical-align: top;\n",
       "    }\n",
       "\n",
       "    .dataframe thead th {\n",
       "        text-align: right;\n",
       "    }\n",
       "</style>\n",
       "<table border=\"1\" class=\"dataframe\">\n",
       "  <thead>\n",
       "    <tr style=\"text-align: right;\">\n",
       "      <th></th>\n",
       "      <th>LocationID</th>\n",
       "      <th>Borough</th>\n",
       "      <th>Zone</th>\n",
       "      <th>service_zone</th>\n",
       "    </tr>\n",
       "  </thead>\n",
       "  <tbody>\n",
       "    <tr>\n",
       "      <th>0</th>\n",
       "      <td>1</td>\n",
       "      <td>EWR</td>\n",
       "      <td>Newark Airport</td>\n",
       "      <td>EWR</td>\n",
       "    </tr>\n",
       "    <tr>\n",
       "      <th>1</th>\n",
       "      <td>2</td>\n",
       "      <td>Queens</td>\n",
       "      <td>Jamaica Bay</td>\n",
       "      <td>Boro Zone</td>\n",
       "    </tr>\n",
       "    <tr>\n",
       "      <th>2</th>\n",
       "      <td>3</td>\n",
       "      <td>Bronx</td>\n",
       "      <td>Allerton/Pelham Gardens</td>\n",
       "      <td>Boro Zone</td>\n",
       "    </tr>\n",
       "    <tr>\n",
       "      <th>3</th>\n",
       "      <td>4</td>\n",
       "      <td>Manhattan</td>\n",
       "      <td>Alphabet City</td>\n",
       "      <td>Yellow Zone</td>\n",
       "    </tr>\n",
       "    <tr>\n",
       "      <th>4</th>\n",
       "      <td>5</td>\n",
       "      <td>Staten Island</td>\n",
       "      <td>Arden Heights</td>\n",
       "      <td>Boro Zone</td>\n",
       "    </tr>\n",
       "  </tbody>\n",
       "</table>\n",
       "</div>"
      ]
     },
     "execution_count": 49,
     "metadata": {},
     "output_type": "execute_result"
    }
   ],
   "execution_count": 49
  },
  {
   "metadata": {},
   "cell_type": "markdown",
   "source": [
    "## Question 1. Understanding docker first run\n",
    "Run docker with the python:3.12.8 image in an interactive mode, use the entrypoint bash.\n",
    "\n",
    "What's the version of pip in the image?\n",
    "\n",
    "24.3.1\n"
   ],
   "id": "a03024886f633cae"
  },
  {
   "metadata": {},
   "cell_type": "markdown",
   "source": [
    "## Question 2. Understanding Docker networking and docker-compose\n",
    "Given the following docker-compose.yaml, what is the hostname and port that pgadmin should use to connect to the postgres database?\n",
    "```yaml\n",
    "services:\n",
    "  db:\n",
    "    container_name: postgres\n",
    "    image: postgres:17-alpine\n",
    "    environment:\n",
    "      POSTGRES_USER: 'postgres'\n",
    "      POSTGRES_PASSWORD: 'postgres'\n",
    "      POSTGRES_DB: 'ny_taxi'\n",
    "    ports:\n",
    "      - '5433:5432'\n",
    "    volumes:\n",
    "      - vol-pgdata:/var/lib/postgresql/data\n",
    "\n",
    "  pgadmin:\n",
    "    container_name: pgadmin\n",
    "    image: dpage/pgadmin4:latest\n",
    "    environment:\n",
    "      PGADMIN_DEFAULT_EMAIL: \"pgadmin@pgadmin.com\"\n",
    "      PGADMIN_DEFAULT_PASSWORD: \"pgadmin\"\n",
    "    ports:\n",
    "      - \"8080:80\"\n",
    "    volumes:\n",
    "      - vol-pgadmin_data:/var/lib/pgadmin\n",
    "\n",
    "volumes:\n",
    "  vol-pgdata:\n",
    "    name: vol-pgdata\n",
    "  vol-pgadmin_data:\n",
    "    name: vol-pgadmin_data\n",
    "```\n",
    "\n",
    "db:5432\n"
   ],
   "id": "f4254b3565fbadb0"
  },
  {
   "metadata": {},
   "cell_type": "markdown",
   "source": [
    "## Question 3. Trip Segmentation Count\n",
    "During the period of October 1st 2019 (inclusive) and November 1st 2019 (exclusive), how many trips, respectively, happened:\n",
    "\n",
    "1. Up to 1 mile\n",
    "2. In between 1 (exclusive) and 3 miles (inclusive),\n",
    "3. In between 3 (exclusive) and 7 miles (inclusive),\n",
    "4. In between 7 (exclusive) and 10 miles (inclusive),\n",
    "5. Over 10 miles\n"
   ],
   "id": "bedd7a2f86c3452e"
  },
  {
   "metadata": {
    "ExecuteTime": {
     "end_time": "2025-01-27T12:19:18.514564Z",
     "start_time": "2025-01-27T12:19:18.449604Z"
    }
   },
   "cell_type": "code",
   "source": [
    "import pandas as pd\n",
    "\n",
    "# Define bins and labels\n",
    "distance_bins = [0, 1, 3, 7, 10, float(\"inf\")]\n",
    "distance_labels = [\"Up to 1 mile\", \"1-3 miles\", \"3-7 miles\", \"7-10 miles\", \"Over 10 miles\"]\n",
    "\n",
    "# Filter trips within the date range\n",
    "green_taxi_trips[\"lpep_pickup_datetime\"] = pd.to_datetime(green_taxi_trips[\"lpep_pickup_datetime\"])\n",
    "filtered_trips = green_taxi_trips[\n",
    "    (green_taxi_trips[\"lpep_pickup_datetime\"] >= \"2019-10-01 00:00:00\") &\n",
    "    (green_taxi_trips[\"lpep_pickup_datetime\"] < \"2019-11-01 00:00:00\")\n",
    "    ].copy()\n",
    "\n",
    "# Categorize trips by distance\n",
    "filtered_trips[\"distance_category\"] = pd.cut(\n",
    "    filtered_trips[\"trip_distance\"],\n",
    "    bins=distance_bins,\n",
    "    labels=distance_labels,\n",
    "    include_lowest=True  # Include 0 in the first bin\n",
    ")\n",
    "\n",
    "# Count trips in each category\n",
    "trip_counts = filtered_trips[\"distance_category\"].value_counts(sort=False)\n",
    "\n",
    "# Display results in the same order as the question\n",
    "for label, count in zip(distance_labels, trip_counts):\n",
    "    print(f\"{label}: {count}\")\n"
   ],
   "id": "78eb59124fdb8325",
   "outputs": [
    {
     "name": "stdout",
     "output_type": "stream",
     "text": [
      "Up to 1 mile: 104828\n",
      "1-3 miles: 198995\n",
      "3-7 miles: 109642\n",
      "7-10 miles: 27686\n",
      "Over 10 miles: 35201\n"
     ]
    }
   ],
   "execution_count": 61
  },
  {
   "metadata": {
    "ExecuteTime": {
     "end_time": "2025-01-27T12:22:15.763797Z",
     "start_time": "2025-01-27T12:22:15.728971Z"
    }
   },
   "cell_type": "code",
   "source": [
    "# Define conditions for each bin\n",
    "conditions = [\n",
    "    (filtered_trips[\"trip_distance\"] >= 0) & (filtered_trips[\"trip_distance\"] <= 1),  # Up to 1 mile\n",
    "    (filtered_trips[\"trip_distance\"] > 1) & (filtered_trips[\"trip_distance\"] <= 3),  # 1-3 miles\n",
    "    (filtered_trips[\"trip_distance\"] > 3) & (filtered_trips[\"trip_distance\"] <= 7),  # 3-7 miles\n",
    "    (filtered_trips[\"trip_distance\"] > 7) & (filtered_trips[\"trip_distance\"] <= 10), # 7-10 miles\n",
    "    (filtered_trips[\"trip_distance\"] > 10)                                          # Over 10 miles\n",
    "]\n",
    "\n",
    "# Define labels for each bin\n",
    "labels = [\"Up to 1 mile\", \"1-3 miles\", \"3-7 miles\", \"7-10 miles\", \"Over 10 miles\"]\n",
    "\n",
    "# Apply the conditions to create a new column\n",
    "filtered_trips[\"distance_category_manual\"] = None  # Initialize with None\n",
    "for condition, label in zip(conditions, labels):\n",
    "    filtered_trips.loc[condition, \"distance_category_manual\"] = label\n",
    "\n",
    "# Verify the counts in each bin\n",
    "manual_counts = filtered_trips[\"distance_category_manual\"].value_counts()\n",
    "print(manual_counts)\n"
   ],
   "id": "a69ff08ec96a8833",
   "outputs": [
    {
     "name": "stdout",
     "output_type": "stream",
     "text": [
      "distance_category_manual\n",
      "1-3 miles        198995\n",
      "3-7 miles        109642\n",
      "Up to 1 mile     104828\n",
      "Over 10 miles     35201\n",
      "7-10 miles        27686\n",
      "Name: count, dtype: int64\n"
     ]
    }
   ],
   "execution_count": 62
  },
  {
   "metadata": {
    "ExecuteTime": {
     "end_time": "2025-01-27T12:44:21.557351Z",
     "start_time": "2025-01-27T12:44:21.456583Z"
    }
   },
   "cell_type": "code",
   "source": [
    "# find longest trip for each day, Which was the pick up day with the longest trip distance? Use the pick up time for your calculations.\n",
    "\n",
    "# Extract date from pickup datetime\n",
    "filtered_trips[\"pickup_date\"] = filtered_trips[\"lpep_pickup_datetime\"].dt.date\n",
    "\n",
    "# Find the longest trip for each day\n",
    "longest_trips = filtered_trips.groupby(\"pickup_date\")[\"trip_distance\"].max()\n",
    "\n",
    "# Find the date with the longest trip\n",
    "longest_trip_date = longest_trips.idxmax()\n",
    "longest_trip_distance = longest_trips.max()\n",
    "\n",
    "print(f\"Date with the longest trip: {longest_trip_date}\")\n",
    "print(f\"Longest trip distance: {longest_trip_distance} miles\")\n"
   ],
   "id": "8c160d820467fdfb",
   "outputs": [
    {
     "name": "stdout",
     "output_type": "stream",
     "text": [
      "Date with the longest trip: 2019-10-31\n",
      "Longest trip distance: 515.89 miles\n"
     ]
    }
   ],
   "execution_count": 65
  },
  {
   "metadata": {
    "ExecuteTime": {
     "end_time": "2025-01-27T12:46:12.949846Z",
     "start_time": "2025-01-27T12:46:12.855542Z"
    }
   },
   "cell_type": "code",
   "source": [
    "# Question 5. Three biggest pickup zones Which were the top pickup locations with over 13,000 in total_amount (across all trips) for 2019-10-18?\n",
    "# Consider only lpep_pickup_datetime when filtering by date.\n",
    "\n",
    "# Filter trips for the specific date\n",
    "date = \"2019-10-18\"\n",
    "filtered_trips_date = green_taxi_trips[\n",
    "    (green_taxi_trips[\"lpep_pickup_datetime\"].dt.date == pd.to_datetime(date).date())\n",
    "]\n",
    "\n",
    "# Find the top pickup locations by total amount\n",
    "top_pickup_zones = filtered_trips_date.groupby(\"PULocationID\")[\"total_amount\"].sum().nlargest(3)\n",
    "\n",
    "print(\"Top pickup locations with over $13,000 in total_amount:\")\n",
    "for location_id, total_amount in top_pickup_zones.items():\n",
    "    location_name = taxi_zones.loc[taxi_zones[\"LocationID\"] == location_id, \"Zone\"].values[0]\n",
    "    print(f\"Location ID: {location_id}, Name: {location_name}, Total Amount: ${total_amount:.2f}\")\n",
    "\n",
    "\n",
    "\n",
    "\n",
    "\n"
   ],
   "id": "24ee6fc7473f5f20",
   "outputs": [
    {
     "name": "stdout",
     "output_type": "stream",
     "text": [
      "Top pickup locations with over $13,000 in total_amount:\n",
      "Location ID: 74, Name: East Harlem North, Total Amount: $18686.68\n",
      "Location ID: 75, Name: East Harlem South, Total Amount: $16797.26\n",
      "Location ID: 166, Name: Morningside Heights, Total Amount: $13029.79\n"
     ]
    }
   ],
   "execution_count": 68
  },
  {
   "metadata": {
    "ExecuteTime": {
     "end_time": "2025-01-27T12:47:31.083432Z",
     "start_time": "2025-01-27T12:47:31.061882Z"
    }
   },
   "cell_type": "code",
   "source": [
    "# Question 6. Largest tip\n",
    "# For the passengers picked up in October 2019 in the zone named \"East Harlem North\" which was the drop off zone that had the largest tip?\n",
    "#\n",
    "# Note: it's tip , not trip\n",
    "#\n",
    "# We need the name of the zone, not the ID.\n",
    "\n",
    "# Filter trips for the specific zone and month\n",
    "zone_name = \"East Harlem North\"\n",
    "filtered_trips_zone = green_taxi_trips[\n",
    "    (green_taxi_trips[\"PULocationID\"] == taxi_zones.loc[taxi_zones[\"Zone\"] == zone_name, \"LocationID\"].values[0]) &\n",
    "    (green_taxi_trips[\"lpep_pickup_datetime\"].dt.month == 10)\n",
    "]\n",
    "\n",
    "# Find the drop off zone with the largest tip\n",
    "largest_tip_dropoff_zone = filtered_trips_zone.loc[filtered_trips_zone[\"tip_amount\"].idxmax(), \"DOLocationID\"]\n",
    "dropoff_zone_name = taxi_zones.loc[taxi_zones[\"LocationID\"] == largest_tip_dropoff_zone, \"Zone\"].values[0]\n",
    "\n",
    "print(f\"Drop off zone with the largest tip for passengers picked up in 'East Harlem North': {dropoff_zone_name}\")\n",
    "\n",
    "\n"
   ],
   "id": "c2082543b6b0db57",
   "outputs": [
    {
     "name": "stdout",
     "output_type": "stream",
     "text": [
      "Drop off zone with the largest tip for passengers picked up in 'East Harlem North': JFK Airport\n"
     ]
    }
   ],
   "execution_count": 69
  },
  {
   "metadata": {},
   "cell_type": "code",
   "outputs": [],
   "execution_count": null,
   "source": "",
   "id": "7388833f05b4c93d"
  }
 ],
 "metadata": {
  "kernelspec": {
   "display_name": "Python 3",
   "language": "python",
   "name": "python3"
  },
  "language_info": {
   "codemirror_mode": {
    "name": "ipython",
    "version": 2
   },
   "file_extension": ".py",
   "mimetype": "text/x-python",
   "name": "python",
   "nbconvert_exporter": "python",
   "pygments_lexer": "ipython2",
   "version": "2.7.6"
  }
 },
 "nbformat": 4,
 "nbformat_minor": 5
}
