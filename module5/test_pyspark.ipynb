{
 "cells": [
  {
   "metadata": {},
   "cell_type": "code",
   "source": [
    "import os\n",
    "os.environ[\"JAVA_HOME\"] = \"/Users/schwinger42/miniforge3/envs/de-zoomcamp/lib/jvm\"\n"
   ],
   "id": "ff1631636f1a03b0",
   "outputs": [],
   "execution_count": null
  },
  {
   "metadata": {},
   "cell_type": "code",
   "source": [
    "!echo $JAVA_HOME\n",
    "!$JAVA_HOME/bin/java -version\n"
   ],
   "id": "dfe8b11b621cd50a",
   "outputs": [],
   "execution_count": null
  },
  {
   "cell_type": "code",
   "id": "initial_id",
   "metadata": {
    "collapsed": true
   },
   "source": [
    "from pyspark.sql import SparkSession\n",
    "\n",
    "# 停止任何存在的 SparkSession\n",
    "active_session = SparkSession.getActiveSession()\n",
    "if active_session:\n",
    "    active_session.stop()\n",
    "\n",
    "# 建立新的 SparkSession，加入必要的 Java 參數\n",
    "spark = SparkSession.builder \\\n",
    "    .config(\"spark.driver.extraJavaOptions\", \"-Djava.security.manager=allow\") \\\n",
    "    .config(\"spark.hadoop.hadoop.security.authentication\", \"simple\") \\\n",
    "    .config(\"spark.hadoop.hadoop.security.authorization\", \"false\") \\\n",
    "    .master(\"local[*]\") \\\n",
    "    .appName(\"test\") \\\n",
    "    .getOrCreate()\n",
    "\n",
    "# 讀取 CSV 檔案\n",
    "df = spark.read \\\n",
    "    .option(\"header\", \"true\") \\\n",
    "    .csv(\"taxi_zone_lookup.csv\")\n",
    "\n",
    "df.show()\n"
   ],
   "outputs": [],
   "execution_count": null
  },
  {
   "metadata": {},
   "cell_type": "code",
   "source": [
    "import pyspark\n",
    "from pyspark.sql import SparkSession\n",
    "\n",
    "active_session = SparkSession.getActiveSession()\n",
    "if active_session:\n",
    "    active_session.stop()\n",
    "\n",
    "# Check Java and Spark version details in the logs\n",
    "spark = SparkSession.builder.master(\"local[1]\") \\\n",
    "    .appName(\"Test Spark\") \\\n",
    "    .getOrCreate()\n",
    "\n",
    "print(f\"PySpark {spark.version} is running with Java at {os.environ.get('JAVA_HOME')}\")\n",
    "spark.stop()"
   ],
   "id": "a62b66e94cfcbb6f",
   "outputs": [],
   "execution_count": null
  },
  {
   "metadata": {},
   "cell_type": "code",
   "source": "!$JAVA_HOME/bin/java -version\n",
   "id": "6b90132c3c3bd3f",
   "outputs": [],
   "execution_count": null
  },
  {
   "metadata": {},
   "cell_type": "code",
   "source": "!conda env list",
   "id": "96dd860f2d1b14f8",
   "outputs": [],
   "execution_count": null
  },
  {
   "metadata": {},
   "cell_type": "code",
   "source": "",
   "id": "45ed843ad5ca451e",
   "outputs": [],
   "execution_count": null
  }
 ],
 "metadata": {
  "kernelspec": {
   "display_name": "Python 3",
   "language": "python",
   "name": "python3"
  },
  "language_info": {
   "codemirror_mode": {
    "name": "ipython",
    "version": 2
   },
   "file_extension": ".py",
   "mimetype": "text/x-python",
   "name": "python",
   "nbconvert_exporter": "python",
   "pygments_lexer": "ipython2",
   "version": "2.7.6"
  }
 },
 "nbformat": 4,
 "nbformat_minor": 5
}
