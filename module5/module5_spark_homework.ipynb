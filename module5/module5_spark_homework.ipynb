{
 "cells": [
  {
   "cell_type": "code",
   "id": "initial_id",
   "metadata": {
    "collapsed": true,
    "ExecuteTime": {
     "end_time": "2025-03-06T20:32:28.913811Z",
     "start_time": "2025-03-06T20:32:28.798989Z"
    }
   },
   "source": [
    "import pyspark\n",
    "from pyspark.sql import SparkSession"
   ],
   "outputs": [],
   "execution_count": 1
  },
  {
   "metadata": {
    "ExecuteTime": {
     "end_time": "2025-03-06T20:32:30.211263Z",
     "start_time": "2025-03-06T20:32:29.934811Z"
    }
   },
   "cell_type": "code",
   "source": [
    "import os\n",
    "os.environ[\"JAVA_HOME\"] = \"/Users/schwinger42/miniforge3/envs/de-zoomcamp/lib/jvm\"\n",
    "!echo $JAVA_HOME\n",
    "!$JAVA_HOME/bin/java -version"
   ],
   "id": "7d9ba966413a0307",
   "outputs": [
    {
     "name": "stdout",
     "output_type": "stream",
     "text": [
      "/Users/schwinger42/miniforge3/envs/de-zoomcamp/lib/jvm\r\n",
      "openjdk version \"23.0.2\" 2025-01-21\r\n",
      "OpenJDK Runtime Environment Zulu23.32+11-CA (build 23.0.2+7)\r\n",
      "OpenJDK 64-Bit Server VM Zulu23.32+11-CA (build 23.0.2+7, mixed mode, sharing)\r\n"
     ]
    }
   ],
   "execution_count": 2
  },
  {
   "metadata": {
    "ExecuteTime": {
     "end_time": "2025-03-06T20:33:12.162176Z",
     "start_time": "2025-03-06T20:33:10.346063Z"
    }
   },
   "cell_type": "code",
   "source": [
    "active_session = SparkSession.getActiveSession()\n",
    "if active_session:\n",
    "    active_session.stop()\n",
    "\n",
    "spark = SparkSession.builder \\\n",
    "    .config(\"spark.driver.extraJavaOptions\", \"-Djava.security.manager=allow\") \\\n",
    "    .config(\"spark.hadoop.hadoop.security.authentication\", \"simple\") \\\n",
    "    .config(\"spark.hadoop.hadoop.security.authorization\", \"false\") \\\n",
    "    .config(\"spark.driver.memory\", \"10g\") \\\n",
    "    .config(\"spark.executor.memory\", \"2g\") \\\n",
    "    .config(\"spark.memory.offHeap.enabled\", \"true\") \\\n",
    "    .config(\"spark.memory.offHeap.size\", \"2g\") \\\n",
    "    .config(\"spark.sql.shuffle.partitions\", \"20\") \\\n",
    "    .config(\"spark.eventLog.gcMetrics.youngGenerationGarbageCollectors\", \"G1 Young Generation\") \\\n",
    "    .config(\"spark.eventLog.gcMetrics.oldGenerationGarbageCollectors\", \"G1 Old Generation,G1 Concurrent GC\") \\\n",
    "    .master(\"local[*]\") \\\n",
    "    .appName(\"module5_taxi\") \\\n",
    "    .getOrCreate()\n"
   ],
   "id": "1b8d092d1407710b",
   "outputs": [
    {
     "name": "stderr",
     "output_type": "stream",
     "text": [
      "Setting default log level to \"WARN\".\n",
      "To adjust logging level use sc.setLogLevel(newLevel). For SparkR, use setLogLevel(newLevel).\n",
      "25/03/07 04:33:11 WARN NativeCodeLoader: Unable to load native-hadoop library for your platform... using builtin-java classes where applicable\n",
      "25/03/07 04:33:11 WARN Utils: Service 'SparkUI' could not bind on port 4040. Attempting port 4041.\n"
     ]
    }
   ],
   "execution_count": 4
  },
  {
   "metadata": {
    "ExecuteTime": {
     "end_time": "2025-03-06T20:33:16.732928Z",
     "start_time": "2025-03-06T20:33:16.729405Z"
    }
   },
   "cell_type": "code",
   "source": [
    "# show spark version\n",
    "print(f\"PySpark {spark.version} is running with Java at {os.environ.get('JAVA_HOME')}\")"
   ],
   "id": "731424906344c411",
   "outputs": [
    {
     "name": "stdout",
     "output_type": "stream",
     "text": [
      "PySpark 3.5.5 is running with Java at /Users/schwinger42/miniforge3/envs/de-zoomcamp/lib/jvm\n"
     ]
    }
   ],
   "execution_count": 5
  },
  {
   "metadata": {
    "ExecuteTime": {
     "end_time": "2025-03-06T20:33:30.067438Z",
     "start_time": "2025-03-06T20:33:22.602592Z"
    }
   },
   "cell_type": "code",
   "source": [
    "# download files from\n",
    "!wget https://d37ci6vzurychx.cloudfront.net/trip-data/yellow_tripdata_2024-10.parquet\n",
    "!wget https://d37ci6vzurychx.cloudfront.net/misc/taxi_zone_lookup.csv"
   ],
   "id": "6cbdd513b921200d",
   "outputs": [
    {
     "name": "stdout",
     "output_type": "stream",
     "text": [
      "--2025-03-07 04:33:22--  https://d37ci6vzurychx.cloudfront.net/trip-data/yellow_tripdata_2024-10.parquet\r\n",
      "Resolving d37ci6vzurychx.cloudfront.net (d37ci6vzurychx.cloudfront.net)... 52.85.39.117, 52.85.39.65, 52.85.39.97, ...\r\n",
      "Connecting to d37ci6vzurychx.cloudfront.net (d37ci6vzurychx.cloudfront.net)|52.85.39.117|:443... connected.\r\n",
      "HTTP request sent, awaiting response... 200 OK\r\n",
      "Length: 64346071 (61M) [binary/octet-stream]\r\n",
      "Saving to: ‘yellow_tripdata_2024-10.parquet’\r\n",
      "\r\n",
      "yellow_tripdata_202 100%[===================>]  61.36M  14.3MB/s    in 5.3s    \r\n",
      "\r\n",
      "2025-03-07 04:33:29 (11.6 MB/s) - ‘yellow_tripdata_2024-10.parquet’ saved [64346071/64346071]\r\n",
      "\r\n",
      "--2025-03-07 04:33:29--  https://d37ci6vzurychx.cloudfront.net/misc/taxi_zone_lookup.csv\r\n",
      "Resolving d37ci6vzurychx.cloudfront.net (d37ci6vzurychx.cloudfront.net)... 52.85.39.65, 52.85.39.97, 52.85.39.153, ...\r\n",
      "Connecting to d37ci6vzurychx.cloudfront.net (d37ci6vzurychx.cloudfront.net)|52.85.39.65|:443... connected.\r\n",
      "HTTP request sent, awaiting response... 200 OK\r\n",
      "Length: 12331 (12K) [text/csv]\r\n",
      "Saving to: ‘taxi_zone_lookup.csv.1’\r\n",
      "\r\n",
      "taxi_zone_lookup.cs 100%[===================>]  12.04K  --.-KB/s    in 0s      \r\n",
      "\r\n",
      "2025-03-07 04:33:29 (1.28 GB/s) - ‘taxi_zone_lookup.csv.1’ saved [12331/12331]\r\n",
      "\r\n"
     ]
    }
   ],
   "execution_count": 6
  },
  {
   "metadata": {
    "ExecuteTime": {
     "end_time": "2025-03-06T20:50:48.020634Z",
     "start_time": "2025-03-06T20:50:39.730958Z"
    }
   },
   "cell_type": "code",
   "source": [
    "# read the October 2024 yellow taxi data into a Spark DataFrame, and repartition it to 4 partitions and save it as a parquet file.\n",
    "df = spark.read.parquet(\"yellow_tripdata_2024-10.parquet\")\n",
    "df_repartitioned = df.repartition(4)\n",
    "df_repartitioned.write.mode(\"overwrite\").parquet(\"yellow_taxi_repartitioned.parquet\")"
   ],
   "id": "de145e43cda8f984",
   "outputs": [
    {
     "name": "stderr",
     "output_type": "stream",
     "text": [
      "                                                                                \r"
     ]
    }
   ],
   "execution_count": 7
  },
  {
   "metadata": {
    "ExecuteTime": {
     "end_time": "2025-03-06T20:55:28.604208Z",
     "start_time": "2025-03-06T20:55:28.599795Z"
    }
   },
   "cell_type": "code",
   "source": [
    "# Calculate average parquet file size\n",
    "parquet_files = [f for f in os.listdir(\"yellow_taxi_repartitioned.parquet\") if f.endswith('.parquet')]\n",
    "total_size = sum(os.path.getsize(f\"yellow_taxi_repartitioned.parquet/{f}\") for f in parquet_files)\n",
    "avg_size_mb = (total_size / len(parquet_files)) / (1024 * 1024)\n",
    "print(f\"Average parquet file size: {avg_size_mb:.2f} MB\")"
   ],
   "id": "17736fece11f143e",
   "outputs": [
    {
     "name": "stdout",
     "output_type": "stream",
     "text": [
      "Average parquet file size: 22.40 MB\n"
     ]
    }
   ],
   "execution_count": 8
  },
  {
   "metadata": {
    "ExecuteTime": {
     "end_time": "2025-03-06T20:58:46.621550Z",
     "start_time": "2025-03-06T20:58:46.616379Z"
    }
   },
   "cell_type": "code",
   "source": "df_repartitioned.printSchema()",
   "id": "96a762528c58d730",
   "outputs": [
    {
     "name": "stdout",
     "output_type": "stream",
     "text": [
      "root\n",
      " |-- VendorID: integer (nullable = true)\n",
      " |-- tpep_pickup_datetime: timestamp_ntz (nullable = true)\n",
      " |-- tpep_dropoff_datetime: timestamp_ntz (nullable = true)\n",
      " |-- passenger_count: long (nullable = true)\n",
      " |-- trip_distance: double (nullable = true)\n",
      " |-- RatecodeID: long (nullable = true)\n",
      " |-- store_and_fwd_flag: string (nullable = true)\n",
      " |-- PULocationID: integer (nullable = true)\n",
      " |-- DOLocationID: integer (nullable = true)\n",
      " |-- payment_type: long (nullable = true)\n",
      " |-- fare_amount: double (nullable = true)\n",
      " |-- extra: double (nullable = true)\n",
      " |-- mta_tax: double (nullable = true)\n",
      " |-- tip_amount: double (nullable = true)\n",
      " |-- tolls_amount: double (nullable = true)\n",
      " |-- improvement_surcharge: double (nullable = true)\n",
      " |-- total_amount: double (nullable = true)\n",
      " |-- congestion_surcharge: double (nullable = true)\n",
      " |-- Airport_fee: double (nullable = true)\n",
      "\n"
     ]
    }
   ],
   "execution_count": 11
  },
  {
   "metadata": {
    "ExecuteTime": {
     "end_time": "2025-03-06T21:00:31.695991Z",
     "start_time": "2025-03-06T21:00:29.446835Z"
    }
   },
   "cell_type": "code",
   "source": [
    "# show the first 5 rows of the DataFrame\n",
    "df_repartitioned.show(5)"
   ],
   "id": "db8159b91027241e",
   "outputs": [
    {
     "name": "stderr",
     "output_type": "stream",
     "text": [
      "                                                                                \r"
     ]
    },
    {
     "name": "stdout",
     "output_type": "stream",
     "text": [
      "+--------+--------------------+---------------------+---------------+-------------+----------+------------------+------------+------------+------------+-----------+-----+-------+----------+------------+---------------------+------------+--------------------+-----------+\n",
      "|VendorID|tpep_pickup_datetime|tpep_dropoff_datetime|passenger_count|trip_distance|RatecodeID|store_and_fwd_flag|PULocationID|DOLocationID|payment_type|fare_amount|extra|mta_tax|tip_amount|tolls_amount|improvement_surcharge|total_amount|congestion_surcharge|Airport_fee|\n",
      "+--------+--------------------+---------------------+---------------+-------------+----------+------------------+------------+------------+------------+-----------+-----+-------+----------+------------+---------------------+------------+--------------------+-----------+\n",
      "|       1| 2024-10-07 16:40:43|  2024-10-07 18:10:56|              1|         14.8|        99|                 N|         127|         225|           1|       47.5|  0.0|    0.5|       0.0|        6.94|                  0.0|       54.94|                 0.0|        0.0|\n",
      "|       2| 2024-10-04 14:17:41|  2024-10-04 14:26:47|              1|          1.1|         1|                 N|         113|         211|           1|        9.3|  0.0|    0.5|      2.66|         0.0|                  1.0|       15.96|                 2.5|        0.0|\n",
      "|       2| 2024-10-01 11:17:28|  2024-10-01 11:32:18|              1|         4.63|         1|                 N|         231|         170|           1|       21.9|  0.0|    0.5|      5.18|         0.0|                  1.0|       31.08|                 2.5|        0.0|\n",
      "|       1| 2024-10-08 17:12:07|  2024-10-08 17:35:56|              1|          2.4|         1|                 N|         236|         100|           1|       19.8|  5.0|    0.5|      5.25|         0.0|                  1.0|       31.55|                 2.5|        0.0|\n",
      "|       1| 2024-10-01 15:37:08|  2024-10-01 15:54:23|              1|          2.1|         1|                 N|         237|          75|           1|       16.3|  2.5|    0.5|      4.05|         0.0|                  1.0|       24.35|                 2.5|        0.0|\n",
      "+--------+--------------------+---------------------+---------------+-------------+----------+------------------+------------+------------+------------+-----------+-----+-------+----------+------------+---------------------+------------+--------------------+-----------+\n",
      "only showing top 5 rows\n",
      "\n"
     ]
    }
   ],
   "execution_count": 12
  },
  {
   "metadata": {
    "ExecuteTime": {
     "end_time": "2025-03-06T21:06:34.947063Z",
     "start_time": "2025-03-06T21:06:34.402278Z"
    }
   },
   "cell_type": "code",
   "source": [
    "# count trip on October 15th, considering the tpep_pickup_datetime is at October 15th(turn it into a date format)\n",
    "from pyspark.sql import functions as F\n",
    "trips_oct15 = df_repartitioned.filter(F.to_date(\"tpep_pickup_datetime\") == \"2024-10-15\").count()\n",
    "print(f\"Number of trips on October 15th: {trips_oct15}\")"
   ],
   "id": "8299003010954f45",
   "outputs": [
    {
     "name": "stdout",
     "output_type": "stream",
     "text": [
      "Number of trips on October 15th: 128893\n"
     ]
    }
   ],
   "execution_count": 13
  },
  {
   "metadata": {
    "ExecuteTime": {
     "end_time": "2025-03-06T21:18:50.399485Z",
     "start_time": "2025-03-06T21:18:49.539474Z"
    }
   },
   "cell_type": "code",
   "source": [
    "# find out the longest trip in hours\n",
    "longest_trip = df_repartitioned.withColumn(\"trip_duration_hours\", (F.unix_timestamp(df_repartitioned.tpep_dropoff_datetime) - F.unix_timestamp(df_repartitioned.tpep_pickup_datetime)) / 3600).agg(F.max(\"trip_duration_hours\").alias(\"max_duration\")).collect()[0][\"max_duration\"]\n",
    "print(f\"Longest trip duration in hours: {longest_trip:.2f} hours\")"
   ],
   "id": "9e9e4d83dc3afb52",
   "outputs": [
    {
     "name": "stdout",
     "output_type": "stream",
     "text": [
      "Longest trip duration in hours: 162.62 hours\n"
     ]
    }
   ],
   "execution_count": 16
  },
  {
   "metadata": {
    "ExecuteTime": {
     "end_time": "2025-03-06T21:25:44.651872Z",
     "start_time": "2025-03-06T21:25:44.573021Z"
    }
   },
   "cell_type": "code",
   "source": [
    "# find the least frequent pickup location zone from file taxi_zone_lookup.csv(need to load the file into spaprk DataFrame)\n",
    "zones_df = spark.read.csv(\"taxi_zone_lookup.csv\", header=True)\n",
    "pickup_count =  df_repartitioned.groupBy(\"PULocationID\").count()"
   ],
   "id": "7039d50d33059d43",
   "outputs": [],
   "execution_count": 18
  },
  {
   "metadata": {
    "ExecuteTime": {
     "end_time": "2025-03-06T21:26:32.541076Z",
     "start_time": "2025-03-06T21:26:32.538464Z"
    }
   },
   "cell_type": "code",
   "source": "zones_df.printSchema()",
   "id": "9126803fcc39ae31",
   "outputs": [
    {
     "name": "stdout",
     "output_type": "stream",
     "text": [
      "root\n",
      " |-- locationid: string (nullable = true)\n",
      " |-- borough: string (nullable = true)\n",
      " |-- zone: string (nullable = true)\n",
      " |-- service_zone: string (nullable = true)\n",
      "\n"
     ]
    }
   ],
   "execution_count": 20
  },
  {
   "metadata": {
    "ExecuteTime": {
     "end_time": "2025-03-06T21:26:00.072118Z",
     "start_time": "2025-03-06T21:26:00.069565Z"
    }
   },
   "cell_type": "code",
   "source": "pickup_count.printSchema()",
   "id": "c9a18c42d4fba341",
   "outputs": [
    {
     "name": "stdout",
     "output_type": "stream",
     "text": [
      "root\n",
      " |-- PULocationID: integer (nullable = true)\n",
      " |-- count: long (nullable = false)\n",
      "\n"
     ]
    }
   ],
   "execution_count": 19
  },
  {
   "metadata": {
    "ExecuteTime": {
     "end_time": "2025-03-06T21:26:45.976618Z",
     "start_time": "2025-03-06T21:26:44.859598Z"
    }
   },
   "cell_type": "code",
   "source": [
    "\n",
    "# join with zone lookup\n",
    "zone_frequencies = pickup_count.join(zones_df, pickup_count.PULocationID == zones_df.locationid).orderBy(\"count\")\n",
    "least_frequent = zone_frequencies.select(\"Zone\", \"count\").first()\n",
    "print(f\"Least frequent zone: {least_frequent['Zone']} with {least_frequent['count']} pickups\")"
   ],
   "id": "ad5b73e151b78347",
   "outputs": [
    {
     "name": "stdout",
     "output_type": "stream",
     "text": [
      "Least frequent zone: Governor's Island/Ellis Island/Liberty Island with 1 pickups\n"
     ]
    }
   ],
   "execution_count": 21
  },
  {
   "metadata": {
    "ExecuteTime": {
     "end_time": "2025-03-06T21:27:50.748188Z",
     "start_time": "2025-03-06T21:27:50.449333Z"
    }
   },
   "cell_type": "code",
   "source": "spark.stop()",
   "id": "7788bb8e670e119b",
   "outputs": [],
   "execution_count": 22
  },
  {
   "metadata": {},
   "cell_type": "code",
   "outputs": [],
   "execution_count": null,
   "source": "",
   "id": "5e843b4ef288df0"
  }
 ],
 "metadata": {
  "kernelspec": {
   "display_name": "Python 3",
   "language": "python",
   "name": "python3"
  },
  "language_info": {
   "codemirror_mode": {
    "name": "ipython",
    "version": 2
   },
   "file_extension": ".py",
   "mimetype": "text/x-python",
   "name": "python",
   "nbconvert_exporter": "python",
   "pygments_lexer": "ipython2",
   "version": "2.7.6"
  }
 },
 "nbformat": 4,
 "nbformat_minor": 5
}
